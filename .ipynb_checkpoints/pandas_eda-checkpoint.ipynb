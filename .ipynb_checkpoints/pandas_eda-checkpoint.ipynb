{
 "cells": [
  {
   "cell_type": "markdown",
   "metadata": {},
   "source": [
    "## pandas 라이브러리와 탐색적 데이터 분석 과정 익히기"
   ]
  },
  {
   "cell_type": "markdown",
   "metadata": {},
   "source": [
    "### 1. 탐색적 데이터 분석 과정  \n",
    "- EDA (Exploratory Data Analysis) 라고 함\n",
    "- 데이터 분석을 위해 raw data를 다양한 각도에서 관찰하여, 데이터를 이해하는 과정\n",
    "  - 데이터 분석 주제마다 EDA를 통해 진행하는 과정은 각양각색이므로, 정형화된 패턴은 없지만,\n",
    "  - 크게 다음과 같은 3가지 과정은 기본이 될 수 있으므로 다음 3가지 과정을 기본으로 이해하기로 함\n",
    "\n",
    "    1. 데이터의 출처와 주제에 대해 이해\n",
    "    2. 데이터의 크기 확인\n",
    "    3. 데이터 구성 요소(feature)의 속성(특징) 확인\n",
    "       - feature: 데이터 구성 요소를 위미함\n",
    "       - 예: 어떤 초등학교에 학생 성적을 기록한 데이터가 있다면, 학생 이름, 과목별 성적등을 feature로 볼 수 있음 (가볍게 field/column 이라고 봐도 무방함)\n",
    "       \n",
    "       \n",
    "> 존 튜키라는 미국 통계학자가 제안한 분석 방법론 <br>\n",
    "> 기존 통계학이 가설을 세우고, 가설을 검정하는 방법론에 치우쳐, 데이터 본래의 정보를 파악하기 어려우므로, 본연의 데이터 탐색에 집중하자는 방법론"
   ]
  },
  {
   "cell_type": "markdown",
   "metadata": {},
   "source": [
    "### 2. 실제 데이터로 pandas 라이브러리와 탐색적 분석 과정 익히기\n",
    "#### 코로나 바이러스 데이터와 함께 pandas 라이브러리 익히기\n",
    "- COVID-19-master 폴더 확인\n",
    "  - 데이터 다운로드: https://github.com/CSSEGISandData/COVID-19\n",
    "  - 데이터 압축 풀고 COVID-19-master 폴더를 통째로 pandas_eda 주피터 노트북이 있는 폴더 안에 하위폴더로 이동"
   ]
  },
  {
   "cell_type": "markdown",
   "metadata": {},
   "source": [
    "#### pandas 라이브러리로 csv 파일 읽기\n",
    "- csv 파일을 pandas dataframe 으로 읽기 위해 read_csv() 함수를 사용함\n",
    "- csv 구분자는 quotechar=구분자 옵션을 넣어서 구분자가 다른 경우도 읽기 가능\n",
    "\n",
    "```\n",
    "doc = pd.read_csv(\"파일명\", encoding='utf-8-sig', quotechar=',')\n",
    "```\n",
    "\n",
    "- 에러 나는 데이터는 항상 있을 수 있음, 해당 데이터는 생략하는 것이 일반적임\n",
    "\n",
    "```\n",
    "doc = pd.read_csv(\"파일명\", encoding='utf-8-sig', error_bad_lines=False)\n",
    "```"
   ]
  },
  {
   "cell_type": "code",
   "execution_count": 1,
   "metadata": {},
   "outputs": [],
   "source": [
    "import pandas as pd\n",
    "doc = pd.read_csv(\"COVID-19-master/csse_covid_19_data/csse_covid_19_daily_reports/04-01-2020.csv\", encoding='utf-8-sig')"
   ]
  },
  {
   "cell_type": "markdown",
   "metadata": {},
   "source": [
    "#### 참고: pandas 라이브러리로 엑셀 파일 읽기\n",
    "\n",
    "- 엑셀 데이터 읽기 (맨 앞에 있는 쉬트의 데이터를 읽음)\n",
    "\n",
    "```\n",
    "pd.read_excel(\"파일명\")\n",
    "```\n",
    "\n",
    "- 특정 쉬트 데이터 읽기: sheet_name 옵션 사용해서, 엑셀 파일의 특정 쉬트를 명시적으로 지정 가능\n",
    "\n",
    "```\n",
    "pd.read_excel(파일명, sheet_name=쉬트명)\n",
    "```"
   ]
  },
  {
   "cell_type": "markdown",
   "metadata": {},
   "source": [
    "<div class=\"alert alert-block\" style=\"border: 1px solid #FFB300;background-color:#F9FBE7;\">\n",
    "<font size=\"3em\" style=\"font-weight:bold;color:#3f8dbf;\">탐색적 데이터 분석: 1. 데이터의 출처와 주제에 대해 이해</font><br>\n",
    "\n",
    "- 국가별 코로나 바이러스 daily 현황 자료\n",
    "- Johns Hopkins University Center for Systems Science and Engineering (JHU CSSE) 에서 작성\n",
    "- 데이터 소스는 https://github.com/CSSEGISandData/COVID-19/tree/master/who_covid_19_situation_reports 에 명시\n",
    "  - 실제 데이터 분석에서는 raw data를 어떻게 가져왔는지에 대해서도 세세히 알필요가 있을 때가 있음\n",
    "    - PDF로 만들어진 공식 문서에서 추출한 데이터와 공식 웹페이지를 크롤링해서 얻은 자료를 CSV 파일로 생성한 것으로 보임\n",
    "  - 위 데이터는 테스트용 데이터이므로 출처에 대해서는 이 정도만 파악하기로 함\n",
    "</div>"
   ]
  },
  {
   "cell_type": "markdown",
   "metadata": {},
   "source": [
    "<div class=\"alert alert-block\" style=\"border: 1px solid #FFB300;background-color:#F9FBE7;\">\n",
    "<font size=\"3em\" style=\"font-weight:bold;color:#3f8dbf;\">탐색적 데이터 분석: 2. 데이터의 크기 확인</font><br>\n",
    "</div>"
   ]
  },
  {
   "cell_type": "markdown",
   "metadata": {},
   "source": [
    "#### 1. 데이터를 pandas로 읽은 후, 가장 먼저 하는 일\n",
    "\n",
    "- 데이터 일부 확인하기\n",
    "  - head(): 처음 5개(디폴트)의 데이터 확인하기\n",
    "    - head(n=10): 처음 10개(조정 가능)의 데이터 확인하기 \n",
    "  - tail(): 마지막 5개의 데이터 확인하기\n",
    "    - tail(n=10): 마지막 10개(조정 가능)의 데이터 확인하기 "
   ]
  },
  {
   "cell_type": "code",
   "execution_count": 2,
   "metadata": {
    "scrolled": true
   },
   "outputs": [
    {
     "data": {
      "text/html": [
       "<div>\n",
       "<style scoped>\n",
       "    .dataframe tbody tr th:only-of-type {\n",
       "        vertical-align: middle;\n",
       "    }\n",
       "\n",
       "    .dataframe tbody tr th {\n",
       "        vertical-align: top;\n",
       "    }\n",
       "\n",
       "    .dataframe thead th {\n",
       "        text-align: right;\n",
       "    }\n",
       "</style>\n",
       "<table border=\"1\" class=\"dataframe\">\n",
       "  <thead>\n",
       "    <tr style=\"text-align: right;\">\n",
       "      <th></th>\n",
       "      <th>FIPS</th>\n",
       "      <th>Admin2</th>\n",
       "      <th>Province_State</th>\n",
       "      <th>Country_Region</th>\n",
       "      <th>Last_Update</th>\n",
       "      <th>Lat</th>\n",
       "      <th>Long_</th>\n",
       "      <th>Confirmed</th>\n",
       "      <th>Deaths</th>\n",
       "      <th>Recovered</th>\n",
       "      <th>Active</th>\n",
       "      <th>Combined_Key</th>\n",
       "    </tr>\n",
       "  </thead>\n",
       "  <tbody>\n",
       "    <tr>\n",
       "      <th>0</th>\n",
       "      <td>45001.0</td>\n",
       "      <td>Abbeville</td>\n",
       "      <td>South Carolina</td>\n",
       "      <td>US</td>\n",
       "      <td>2020-04-01 21:58:49</td>\n",
       "      <td>34.223334</td>\n",
       "      <td>-82.461707</td>\n",
       "      <td>4</td>\n",
       "      <td>0</td>\n",
       "      <td>0</td>\n",
       "      <td>0</td>\n",
       "      <td>Abbeville, South Carolina, US</td>\n",
       "    </tr>\n",
       "    <tr>\n",
       "      <th>1</th>\n",
       "      <td>22001.0</td>\n",
       "      <td>Acadia</td>\n",
       "      <td>Louisiana</td>\n",
       "      <td>US</td>\n",
       "      <td>2020-04-01 21:58:49</td>\n",
       "      <td>30.295065</td>\n",
       "      <td>-92.414197</td>\n",
       "      <td>47</td>\n",
       "      <td>1</td>\n",
       "      <td>0</td>\n",
       "      <td>0</td>\n",
       "      <td>Acadia, Louisiana, US</td>\n",
       "    </tr>\n",
       "    <tr>\n",
       "      <th>2</th>\n",
       "      <td>51001.0</td>\n",
       "      <td>Accomack</td>\n",
       "      <td>Virginia</td>\n",
       "      <td>US</td>\n",
       "      <td>2020-04-01 21:58:49</td>\n",
       "      <td>37.767072</td>\n",
       "      <td>-75.632346</td>\n",
       "      <td>7</td>\n",
       "      <td>0</td>\n",
       "      <td>0</td>\n",
       "      <td>0</td>\n",
       "      <td>Accomack, Virginia, US</td>\n",
       "    </tr>\n",
       "    <tr>\n",
       "      <th>3</th>\n",
       "      <td>16001.0</td>\n",
       "      <td>Ada</td>\n",
       "      <td>Idaho</td>\n",
       "      <td>US</td>\n",
       "      <td>2020-04-01 21:58:49</td>\n",
       "      <td>43.452658</td>\n",
       "      <td>-116.241552</td>\n",
       "      <td>195</td>\n",
       "      <td>3</td>\n",
       "      <td>0</td>\n",
       "      <td>0</td>\n",
       "      <td>Ada, Idaho, US</td>\n",
       "    </tr>\n",
       "    <tr>\n",
       "      <th>4</th>\n",
       "      <td>19001.0</td>\n",
       "      <td>Adair</td>\n",
       "      <td>Iowa</td>\n",
       "      <td>US</td>\n",
       "      <td>2020-04-01 21:58:49</td>\n",
       "      <td>41.330756</td>\n",
       "      <td>-94.471059</td>\n",
       "      <td>1</td>\n",
       "      <td>0</td>\n",
       "      <td>0</td>\n",
       "      <td>0</td>\n",
       "      <td>Adair, Iowa, US</td>\n",
       "    </tr>\n",
       "  </tbody>\n",
       "</table>\n",
       "</div>"
      ],
      "text/plain": [
       "      FIPS     Admin2  Province_State Country_Region          Last_Update  \\\n",
       "0  45001.0  Abbeville  South Carolina             US  2020-04-01 21:58:49   \n",
       "1  22001.0     Acadia       Louisiana             US  2020-04-01 21:58:49   \n",
       "2  51001.0   Accomack        Virginia             US  2020-04-01 21:58:49   \n",
       "3  16001.0        Ada           Idaho             US  2020-04-01 21:58:49   \n",
       "4  19001.0      Adair            Iowa             US  2020-04-01 21:58:49   \n",
       "\n",
       "         Lat       Long_  Confirmed  Deaths  Recovered  Active  \\\n",
       "0  34.223334  -82.461707          4       0          0       0   \n",
       "1  30.295065  -92.414197         47       1          0       0   \n",
       "2  37.767072  -75.632346          7       0          0       0   \n",
       "3  43.452658 -116.241552        195       3          0       0   \n",
       "4  41.330756  -94.471059          1       0          0       0   \n",
       "\n",
       "                    Combined_Key  \n",
       "0  Abbeville, South Carolina, US  \n",
       "1          Acadia, Louisiana, US  \n",
       "2         Accomack, Virginia, US  \n",
       "3                 Ada, Idaho, US  \n",
       "4                Adair, Iowa, US  "
      ]
     },
     "execution_count": 2,
     "metadata": {},
     "output_type": "execute_result"
    }
   ],
   "source": [
    "doc.head()"
   ]
  },
  {
   "cell_type": "code",
   "execution_count": 3,
   "metadata": {},
   "outputs": [
    {
     "data": {
      "text/html": [
       "<div>\n",
       "<style scoped>\n",
       "    .dataframe tbody tr th:only-of-type {\n",
       "        vertical-align: middle;\n",
       "    }\n",
       "\n",
       "    .dataframe tbody tr th {\n",
       "        vertical-align: top;\n",
       "    }\n",
       "\n",
       "    .dataframe thead th {\n",
       "        text-align: right;\n",
       "    }\n",
       "</style>\n",
       "<table border=\"1\" class=\"dataframe\">\n",
       "  <thead>\n",
       "    <tr style=\"text-align: right;\">\n",
       "      <th></th>\n",
       "      <th>FIPS</th>\n",
       "      <th>Admin2</th>\n",
       "      <th>Province_State</th>\n",
       "      <th>Country_Region</th>\n",
       "      <th>Last_Update</th>\n",
       "      <th>Lat</th>\n",
       "      <th>Long_</th>\n",
       "      <th>Confirmed</th>\n",
       "      <th>Deaths</th>\n",
       "      <th>Recovered</th>\n",
       "      <th>Active</th>\n",
       "      <th>Combined_Key</th>\n",
       "    </tr>\n",
       "  </thead>\n",
       "  <tbody>\n",
       "    <tr>\n",
       "      <th>2478</th>\n",
       "      <td>NaN</td>\n",
       "      <td>NaN</td>\n",
       "      <td>NaN</td>\n",
       "      <td>Venezuela</td>\n",
       "      <td>2020-04-01 21:58:34</td>\n",
       "      <td>6.423800</td>\n",
       "      <td>-66.589700</td>\n",
       "      <td>143</td>\n",
       "      <td>3</td>\n",
       "      <td>41</td>\n",
       "      <td>99</td>\n",
       "      <td>Venezuela</td>\n",
       "    </tr>\n",
       "    <tr>\n",
       "      <th>2479</th>\n",
       "      <td>NaN</td>\n",
       "      <td>NaN</td>\n",
       "      <td>NaN</td>\n",
       "      <td>Vietnam</td>\n",
       "      <td>2020-04-01 21:58:34</td>\n",
       "      <td>14.058324</td>\n",
       "      <td>108.277199</td>\n",
       "      <td>218</td>\n",
       "      <td>0</td>\n",
       "      <td>63</td>\n",
       "      <td>155</td>\n",
       "      <td>Vietnam</td>\n",
       "    </tr>\n",
       "    <tr>\n",
       "      <th>2480</th>\n",
       "      <td>NaN</td>\n",
       "      <td>NaN</td>\n",
       "      <td>NaN</td>\n",
       "      <td>West Bank and Gaza</td>\n",
       "      <td>2020-04-01 21:58:34</td>\n",
       "      <td>31.952200</td>\n",
       "      <td>35.233200</td>\n",
       "      <td>134</td>\n",
       "      <td>1</td>\n",
       "      <td>18</td>\n",
       "      <td>115</td>\n",
       "      <td>West Bank and Gaza</td>\n",
       "    </tr>\n",
       "    <tr>\n",
       "      <th>2481</th>\n",
       "      <td>NaN</td>\n",
       "      <td>NaN</td>\n",
       "      <td>NaN</td>\n",
       "      <td>Zambia</td>\n",
       "      <td>2020-04-01 21:58:34</td>\n",
       "      <td>-13.133897</td>\n",
       "      <td>27.849332</td>\n",
       "      <td>36</td>\n",
       "      <td>0</td>\n",
       "      <td>0</td>\n",
       "      <td>36</td>\n",
       "      <td>Zambia</td>\n",
       "    </tr>\n",
       "    <tr>\n",
       "      <th>2482</th>\n",
       "      <td>NaN</td>\n",
       "      <td>NaN</td>\n",
       "      <td>NaN</td>\n",
       "      <td>Zimbabwe</td>\n",
       "      <td>2020-04-01 21:58:34</td>\n",
       "      <td>-19.015438</td>\n",
       "      <td>29.154857</td>\n",
       "      <td>8</td>\n",
       "      <td>1</td>\n",
       "      <td>0</td>\n",
       "      <td>7</td>\n",
       "      <td>Zimbabwe</td>\n",
       "    </tr>\n",
       "  </tbody>\n",
       "</table>\n",
       "</div>"
      ],
      "text/plain": [
       "      FIPS Admin2 Province_State      Country_Region          Last_Update  \\\n",
       "2478   NaN    NaN            NaN           Venezuela  2020-04-01 21:58:34   \n",
       "2479   NaN    NaN            NaN             Vietnam  2020-04-01 21:58:34   \n",
       "2480   NaN    NaN            NaN  West Bank and Gaza  2020-04-01 21:58:34   \n",
       "2481   NaN    NaN            NaN              Zambia  2020-04-01 21:58:34   \n",
       "2482   NaN    NaN            NaN            Zimbabwe  2020-04-01 21:58:34   \n",
       "\n",
       "            Lat       Long_  Confirmed  Deaths  Recovered  Active  \\\n",
       "2478   6.423800  -66.589700        143       3         41      99   \n",
       "2479  14.058324  108.277199        218       0         63     155   \n",
       "2480  31.952200   35.233200        134       1         18     115   \n",
       "2481 -13.133897   27.849332         36       0          0      36   \n",
       "2482 -19.015438   29.154857          8       1          0       7   \n",
       "\n",
       "            Combined_Key  \n",
       "2478           Venezuela  \n",
       "2479             Vietnam  \n",
       "2480  West Bank and Gaza  \n",
       "2481              Zambia  \n",
       "2482            Zimbabwe  "
      ]
     },
     "execution_count": 3,
     "metadata": {},
     "output_type": "execute_result"
    }
   ],
   "source": [
    "doc.tail()"
   ]
  },
  {
   "cell_type": "markdown",
   "metadata": {},
   "source": [
    "#### 2. 보다 다양한 데이터 정보 확인하기\n",
    "- shape: 데이터의 row, column 사이즈 확인\n",
    "- info(): column별 데이터 타입과 실제 데이터가 있는 사이즈 확인\n",
    "  - raw data는 일부 데이터가 없는 경우가 많기 때문에, 실제 데이터의 사이즈 확인이 필요함"
   ]
  },
  {
   "cell_type": "code",
   "execution_count": 4,
   "metadata": {},
   "outputs": [
    {
     "data": {
      "text/plain": [
       "(2483, 12)"
      ]
     },
     "execution_count": 4,
     "metadata": {},
     "output_type": "execute_result"
    }
   ],
   "source": [
    "doc.shape"
   ]
  },
  {
   "cell_type": "code",
   "execution_count": 5,
   "metadata": {},
   "outputs": [
    {
     "name": "stdout",
     "output_type": "stream",
     "text": [
      "<class 'pandas.core.frame.DataFrame'>\n",
      "RangeIndex: 2483 entries, 0 to 2482\n",
      "Data columns (total 12 columns):\n",
      " #   Column          Non-Null Count  Dtype  \n",
      "---  ------          --------------  -----  \n",
      " 0   FIPS            2171 non-null   float64\n",
      " 1   Admin2          2221 non-null   object \n",
      " 2   Province_State  2307 non-null   object \n",
      " 3   Country_Region  2483 non-null   object \n",
      " 4   Last_Update     2483 non-null   object \n",
      " 5   Lat             2482 non-null   float64\n",
      " 6   Long_           2482 non-null   float64\n",
      " 7   Confirmed       2483 non-null   int64  \n",
      " 8   Deaths          2483 non-null   int64  \n",
      " 9   Recovered       2483 non-null   int64  \n",
      " 10  Active          2483 non-null   int64  \n",
      " 11  Combined_Key    2483 non-null   object \n",
      "dtypes: float64(3), int64(4), object(5)\n",
      "memory usage: 232.9+ KB\n"
     ]
    }
   ],
   "source": [
    "doc.info()"
   ]
  },
  {
   "cell_type": "markdown",
   "metadata": {},
   "source": [
    "<div class=\"alert alert-block\" style=\"border: 1px solid #FFB300;background-color:#F9FBE7;\">\n",
    "<font size=\"3em\" style=\"font-weight:bold;color:#3f8dbf;\">탐색적 데이터 분석: 3. 데이터 구성 요소(feature)의 속성(특징) 확인</font><br>\n",
    "</div>"
   ]
  },
  {
   "cell_type": "markdown",
   "metadata": {},
   "source": [
    "#### 1. 각 column 이해하기\n",
    "- raw data에는 다양한 column 이 있는 경우가 많고, 이 중에서 내가 사용할 column 에 대해서는 확실히 이해하고 있어야 함\n",
    "- Country_Region: 국가, Lat/Long: 경도, Confirmed: 확진, Deaths: 사망, Recovered: 회복, Active: 확진 중인 사람(사망자/회복자 제외)"
   ]
  },
  {
   "cell_type": "code",
   "execution_count": 6,
   "metadata": {
    "scrolled": true
   },
   "outputs": [
    {
     "data": {
      "text/plain": [
       "Index(['FIPS', 'Admin2', 'Province_State', 'Country_Region', 'Last_Update',\n",
       "       'Lat', 'Long_', 'Confirmed', 'Deaths', 'Recovered', 'Active',\n",
       "       'Combined_Key'],\n",
       "      dtype='object')"
      ]
     },
     "execution_count": 6,
     "metadata": {},
     "output_type": "execute_result"
    }
   ],
   "source": [
    "doc.columns"
   ]
  },
  {
   "cell_type": "markdown",
   "metadata": {},
   "source": [
    "#### 2. 속성이 숫자라면, 평균, 표준편차, 4분위 수, 최소/최대갑 확인하기\n",
    "- describe(): 숫자 데이터의 기본 통계치를 한번에 확인할 수 있음"
   ]
  },
  {
   "cell_type": "code",
   "execution_count": 7,
   "metadata": {
    "scrolled": true
   },
   "outputs": [
    {
     "data": {
      "text/html": [
       "<div>\n",
       "<style scoped>\n",
       "    .dataframe tbody tr th:only-of-type {\n",
       "        vertical-align: middle;\n",
       "    }\n",
       "\n",
       "    .dataframe tbody tr th {\n",
       "        vertical-align: top;\n",
       "    }\n",
       "\n",
       "    .dataframe thead th {\n",
       "        text-align: right;\n",
       "    }\n",
       "</style>\n",
       "<table border=\"1\" class=\"dataframe\">\n",
       "  <thead>\n",
       "    <tr style=\"text-align: right;\">\n",
       "      <th></th>\n",
       "      <th>FIPS</th>\n",
       "      <th>Lat</th>\n",
       "      <th>Long_</th>\n",
       "      <th>Confirmed</th>\n",
       "      <th>Deaths</th>\n",
       "      <th>Recovered</th>\n",
       "      <th>Active</th>\n",
       "    </tr>\n",
       "  </thead>\n",
       "  <tbody>\n",
       "    <tr>\n",
       "      <th>count</th>\n",
       "      <td>2171.000000</td>\n",
       "      <td>2482.000000</td>\n",
       "      <td>2482.000000</td>\n",
       "      <td>2483.000000</td>\n",
       "      <td>2483.000000</td>\n",
       "      <td>2483.000000</td>\n",
       "      <td>2483.000000</td>\n",
       "    </tr>\n",
       "    <tr>\n",
       "      <th>mean</th>\n",
       "      <td>30017.933671</td>\n",
       "      <td>35.648140</td>\n",
       "      <td>-77.259529</td>\n",
       "      <td>375.596053</td>\n",
       "      <td>18.851792</td>\n",
       "      <td>77.797422</td>\n",
       "      <td>195.069271</td>\n",
       "    </tr>\n",
       "    <tr>\n",
       "      <th>std</th>\n",
       "      <td>15494.172170</td>\n",
       "      <td>11.348356</td>\n",
       "      <td>44.340152</td>\n",
       "      <td>4210.635475</td>\n",
       "      <td>351.565670</td>\n",
       "      <td>1506.657766</td>\n",
       "      <td>2798.254454</td>\n",
       "    </tr>\n",
       "    <tr>\n",
       "      <th>min</th>\n",
       "      <td>1001.000000</td>\n",
       "      <td>-42.882100</td>\n",
       "      <td>-159.596679</td>\n",
       "      <td>0.000000</td>\n",
       "      <td>0.000000</td>\n",
       "      <td>0.000000</td>\n",
       "      <td>0.000000</td>\n",
       "    </tr>\n",
       "    <tr>\n",
       "      <th>25%</th>\n",
       "      <td>18050.000000</td>\n",
       "      <td>33.206991</td>\n",
       "      <td>-94.768959</td>\n",
       "      <td>2.000000</td>\n",
       "      <td>0.000000</td>\n",
       "      <td>0.000000</td>\n",
       "      <td>0.000000</td>\n",
       "    </tr>\n",
       "    <tr>\n",
       "      <th>50%</th>\n",
       "      <td>29027.000000</td>\n",
       "      <td>37.565526</td>\n",
       "      <td>-86.181966</td>\n",
       "      <td>7.000000</td>\n",
       "      <td>0.000000</td>\n",
       "      <td>0.000000</td>\n",
       "      <td>0.000000</td>\n",
       "    </tr>\n",
       "    <tr>\n",
       "      <th>75%</th>\n",
       "      <td>45016.000000</td>\n",
       "      <td>41.416065</td>\n",
       "      <td>-79.409001</td>\n",
       "      <td>34.000000</td>\n",
       "      <td>1.000000</td>\n",
       "      <td>0.000000</td>\n",
       "      <td>0.000000</td>\n",
       "    </tr>\n",
       "    <tr>\n",
       "      <th>max</th>\n",
       "      <td>99999.000000</td>\n",
       "      <td>71.706900</td>\n",
       "      <td>178.065000</td>\n",
       "      <td>110574.000000</td>\n",
       "      <td>13155.000000</td>\n",
       "      <td>63326.000000</td>\n",
       "      <td>80572.000000</td>\n",
       "    </tr>\n",
       "  </tbody>\n",
       "</table>\n",
       "</div>"
      ],
      "text/plain": [
       "               FIPS          Lat        Long_      Confirmed        Deaths  \\\n",
       "count   2171.000000  2482.000000  2482.000000    2483.000000   2483.000000   \n",
       "mean   30017.933671    35.648140   -77.259529     375.596053     18.851792   \n",
       "std    15494.172170    11.348356    44.340152    4210.635475    351.565670   \n",
       "min     1001.000000   -42.882100  -159.596679       0.000000      0.000000   \n",
       "25%    18050.000000    33.206991   -94.768959       2.000000      0.000000   \n",
       "50%    29027.000000    37.565526   -86.181966       7.000000      0.000000   \n",
       "75%    45016.000000    41.416065   -79.409001      34.000000      1.000000   \n",
       "max    99999.000000    71.706900   178.065000  110574.000000  13155.000000   \n",
       "\n",
       "          Recovered        Active  \n",
       "count   2483.000000   2483.000000  \n",
       "mean      77.797422    195.069271  \n",
       "std     1506.657766   2798.254454  \n",
       "min        0.000000      0.000000  \n",
       "25%        0.000000      0.000000  \n",
       "50%        0.000000      0.000000  \n",
       "75%        0.000000      0.000000  \n",
       "max    63326.000000  80572.000000  "
      ]
     },
     "execution_count": 7,
     "metadata": {},
     "output_type": "execute_result"
    }
   ],
   "source": [
    "doc.describe()\n",
    "# count: 갯수, mean: 평균, std: 표준편차, min: 최소값, max: 최대값\n",
    "# 25%/50%/75%: 4분위수로 전체 데이터 중, 25%/50%/75% 각각에 해당하는 수치가 몇 인지를 알려줌"
   ]
  },
  {
   "cell_type": "markdown",
   "metadata": {},
   "source": [
    "#### 3. 속성간 상관관계 이해하기\n",
    "- corr(method=상관계수): 각 속성간 상관 관계 확인하기 (피어슨 상관계수가 디폴트임)\n",
    "- 피어슨 상관계수는 선형 상관 관계를 조사하며, 일반적으로\n",
    "  - +1에 가까우면, 양의 선형 상관 관계 (1에 가까울 수록 선에 가까운 데이터가 많고, 한 변수값이 증가하면, 다른 변수값도 증가)\n",
    "  - 0에 가까우면 상관관계가 없고\n",
    "  - -1에 가까우면 음의 선형 상관 관계를 가진다 (-1에 가까울 수록 선에 가까운 데이터가 많고, 한 변수값이 증가하면, 다른 변수값은 감소) 라고\n",
    "  해석됨\n",
    "  \n",
    "  \n",
    "> 참고: 피어슨 상관계수 관계   <img src=\"https://upload.wikimedia.org/wikipedia/commons/thumb/3/34/Correlation_coefficient.png/600px-Correlation_coefficient.png\">\n",
    "> 출처: [위키피디아]( https://ko.wikipedia.org/wiki/%ED%94%BC%EC%96%B4%EC%8A%A8_%EC%83%81%EA%B4%80_%EA%B3%84%EC%88%98)"
   ]
  },
  {
   "cell_type": "code",
   "execution_count": 12,
   "metadata": {
    "scrolled": true
   },
   "outputs": [
    {
     "data": {
      "text/html": [
       "<div>\n",
       "<style scoped>\n",
       "    .dataframe tbody tr th:only-of-type {\n",
       "        vertical-align: middle;\n",
       "    }\n",
       "\n",
       "    .dataframe tbody tr th {\n",
       "        vertical-align: top;\n",
       "    }\n",
       "\n",
       "    .dataframe thead th {\n",
       "        text-align: right;\n",
       "    }\n",
       "</style>\n",
       "<table border=\"1\" class=\"dataframe\">\n",
       "  <thead>\n",
       "    <tr style=\"text-align: right;\">\n",
       "      <th></th>\n",
       "      <th>FIPS</th>\n",
       "      <th>Lat</th>\n",
       "      <th>Long_</th>\n",
       "      <th>Confirmed</th>\n",
       "      <th>Deaths</th>\n",
       "      <th>Recovered</th>\n",
       "      <th>Active</th>\n",
       "    </tr>\n",
       "  </thead>\n",
       "  <tbody>\n",
       "    <tr>\n",
       "      <th>FIPS</th>\n",
       "      <td>1.000000</td>\n",
       "      <td>0.144217</td>\n",
       "      <td>0.139813</td>\n",
       "      <td>0.003306</td>\n",
       "      <td>-0.000190</td>\n",
       "      <td>NaN</td>\n",
       "      <td>NaN</td>\n",
       "    </tr>\n",
       "    <tr>\n",
       "      <th>Lat</th>\n",
       "      <td>0.144217</td>\n",
       "      <td>1.000000</td>\n",
       "      <td>-0.487517</td>\n",
       "      <td>0.028217</td>\n",
       "      <td>0.021578</td>\n",
       "      <td>-0.004630</td>\n",
       "      <td>0.029301</td>\n",
       "    </tr>\n",
       "    <tr>\n",
       "      <th>Long_</th>\n",
       "      <td>0.139813</td>\n",
       "      <td>-0.487517</td>\n",
       "      <td>1.000000</td>\n",
       "      <td>0.157110</td>\n",
       "      <td>0.104027</td>\n",
       "      <td>0.155989</td>\n",
       "      <td>0.143738</td>\n",
       "    </tr>\n",
       "    <tr>\n",
       "      <th>Confirmed</th>\n",
       "      <td>0.003306</td>\n",
       "      <td>0.028217</td>\n",
       "      <td>0.157110</td>\n",
       "      <td>1.000000</td>\n",
       "      <td>0.886551</td>\n",
       "      <td>0.727257</td>\n",
       "      <td>0.913162</td>\n",
       "    </tr>\n",
       "    <tr>\n",
       "      <th>Deaths</th>\n",
       "      <td>-0.000190</td>\n",
       "      <td>0.021578</td>\n",
       "      <td>0.104027</td>\n",
       "      <td>0.886551</td>\n",
       "      <td>1.000000</td>\n",
       "      <td>0.567840</td>\n",
       "      <td>0.880624</td>\n",
       "    </tr>\n",
       "    <tr>\n",
       "      <th>Recovered</th>\n",
       "      <td>NaN</td>\n",
       "      <td>-0.004630</td>\n",
       "      <td>0.155989</td>\n",
       "      <td>0.727257</td>\n",
       "      <td>0.567840</td>\n",
       "      <td>1.000000</td>\n",
       "      <td>0.493139</td>\n",
       "    </tr>\n",
       "    <tr>\n",
       "      <th>Active</th>\n",
       "      <td>NaN</td>\n",
       "      <td>0.029301</td>\n",
       "      <td>0.143738</td>\n",
       "      <td>0.913162</td>\n",
       "      <td>0.880624</td>\n",
       "      <td>0.493139</td>\n",
       "      <td>1.000000</td>\n",
       "    </tr>\n",
       "  </tbody>\n",
       "</table>\n",
       "</div>"
      ],
      "text/plain": [
       "               FIPS       Lat     Long_  Confirmed    Deaths  Recovered  \\\n",
       "FIPS       1.000000  0.144217  0.139813   0.003306 -0.000190        NaN   \n",
       "Lat        0.144217  1.000000 -0.487517   0.028217  0.021578  -0.004630   \n",
       "Long_      0.139813 -0.487517  1.000000   0.157110  0.104027   0.155989   \n",
       "Confirmed  0.003306  0.028217  0.157110   1.000000  0.886551   0.727257   \n",
       "Deaths    -0.000190  0.021578  0.104027   0.886551  1.000000   0.567840   \n",
       "Recovered       NaN -0.004630  0.155989   0.727257  0.567840   1.000000   \n",
       "Active          NaN  0.029301  0.143738   0.913162  0.880624   0.493139   \n",
       "\n",
       "             Active  \n",
       "FIPS            NaN  \n",
       "Lat        0.029301  \n",
       "Long_      0.143738  \n",
       "Confirmed  0.913162  \n",
       "Deaths     0.880624  \n",
       "Recovered  0.493139  \n",
       "Active     1.000000  "
      ]
     },
     "execution_count": 12,
     "metadata": {},
     "output_type": "execute_result"
    }
   ],
   "source": [
    "doc.corr()"
   ]
  },
  {
   "cell_type": "markdown",
   "metadata": {},
   "source": [
    "#### 참고: 피어슨 상관계수\n",
    "- 두 변수 X 와 Y 간의 선형 상관 관계를 계량화한 수치로, 수치 자체를 이해하기 위해서는 공분산등 고등수학 범위를 넘어서므로, 다음과 같이 간략한 식을 참고로만 이해하기로 함\n",
    "- X와 Y가 각각 n 개의 샘플을 가지고 있을 때,\n",
    "\n",
    "$$\n",
    "\\text{r}_{XY} = \\frac{\n",
    "\\sum_{i}^{n} (X_{i} -  \\bar{X}) \\cdot (Y_{i} -  \\bar{Y})}\n",
    "{\\sqrt{\\sum_{i}^{n} (X_{i} -  \\bar{X})^2} \\cdot\n",
    "\\sqrt{\\sum_{i}^{n} (Y_{i} -  \\bar{Y})^2}\n",
    "}\n",
    "$$\n",
    "\n",
    "$$ \\bar{X}: X 샘플의 평균, \\bar{Y}: Y 샘플의 평균 $$"
   ]
  },
  {
   "cell_type": "markdown",
   "metadata": {},
   "source": [
    "#### 참고: 데이터 시각화를 통한 데이터 이해\n",
    "- 데이터를 보다 깊게 이해하기 위해, 데이터를 시각화할 수 있음\n",
    "- 방대한 데이터를 숫자로 보는 것보다, 눈으로 보면 보다 명확히 이해할 수 있음\n",
    "- 다양한 데이터 시각화 라이브러리가 존재하므로, 이 중에서 데이터 탐색의 상관관계 분석을 위해, 바로 사용할 수 있는 라이브러리를 이해하기로 함"
   ]
  },
  {
   "cell_type": "markdown",
   "metadata": {},
   "source": [
    "#### 이전 데이터 시각화 라이브러리 (참고로만 이해)\n",
    "- matplotlib: 파이썬에서 가장 기본적으로 사용하는 자료를 그래프로 보여주는 시각화 라이브러리\n",
    "  - 가장 좋기 때문에, 많이 사용된 것이 아니라, 이전부터 사용해왔기 때문에 사용된다고 하는 편이 맞음\n",
    "- seaborn: matplotlib을 기반으로 다양한 통계 차트 및 색상 테마를 추가한 라이브러리\n",
    "  - matplotlib 라이브러리로만은 이쁘지 않았고, 다양한 차트에 대한 요구가 많아서 개발된 라이브러리\n",
    "  \n",
    "#### 최신 시각화 라이브러리: plotly\n",
    "  - pandas 기능과 plotly 를 조합해서 최신/가장 빠르게 시각화 가능\n",
    "  - pandas 데이터프레임.iplot() 같은 형태로 데이터프레임을 바로 그래프로 그릴 수 있음\n",
    "  - https://plotly.com/python/\n",
    "  \n",
    "  \n",
    "> 본 전처리에서는 이전 데이터 시각화 라이브러리를 간략히 시각화가 분석에 유용하다는 점만 알려드리고, <br>\n",
    "> 이전 시각화 라이브러리에 대해 가볍게만 이해할 수 있도록 꾸몄습니다. <br>\n",
    "> 데이터 분석에서 시각화를 본격적으로 이해할 시에는 최신 시각화 라이브러리를 사용합니다."
   ]
  },
  {
   "cell_type": "markdown",
   "metadata": {},
   "source": [
    "#### 보통 다음과 같이 임포트하고 as로 변경된 이름을 사용함"
   ]
  },
  {
   "cell_type": "code",
   "execution_count": 13,
   "metadata": {},
   "outputs": [],
   "source": [
    "import matplotlib.pyplot as plt \n",
    "import seaborn as sns"
   ]
  },
  {
   "cell_type": "markdown",
   "metadata": {},
   "source": [
    "#### 주피터 노트북 상에서 그래프를 표현하기 위해 특별한 명령을 해주어야 함"
   ]
  },
  {
   "cell_type": "code",
   "execution_count": 14,
   "metadata": {},
   "outputs": [],
   "source": [
    "%matplotlib inline "
   ]
  },
  {
   "cell_type": "markdown",
   "metadata": {},
   "source": [
    "#### 화면에 표시될 그래프 사이즈 조정"
   ]
  },
  {
   "cell_type": "code",
   "execution_count": 15,
   "metadata": {},
   "outputs": [
    {
     "data": {
      "text/plain": [
       "<Figure size 360x360 with 0 Axes>"
      ]
     },
     "execution_count": 15,
     "metadata": {},
     "output_type": "execute_result"
    },
    {
     "data": {
      "text/plain": [
       "<Figure size 360x360 with 0 Axes>"
      ]
     },
     "metadata": {},
     "output_type": "display_data"
    }
   ],
   "source": [
    "plt.figure(figsize=(5,5))"
   ]
  },
  {
   "cell_type": "markdown",
   "metadata": {},
   "source": [
    "#### 화면에 표시될 그래프 사이즈 조정\n",
    "\n",
    "```\n",
    "sns.heatmap(data = doc.corr(), annot=True, fmt = '.2f', linewidths=0.5, cmap='Blues')\n",
    "```\n",
    "\n",
    "- data=테이블형: 데이터셋(데이터프레임)\n",
    "- annot=True: 박스 안에 값 표시\n",
    "- fmt='0.2f': 박스 안에 표시될 값의 표시 형식 설정 (0.2f 는 소숫점 두자릿수를 의미함)\n",
    "- linewidths=0.5: 박스와 박스 사이의 간격 설정\n",
    "- cmap='Blues': 색상 선택 (https://matplotlib.org/3.1.0/tutorials/colors/colormaps.html)"
   ]
  },
  {
   "cell_type": "code",
   "execution_count": 16,
   "metadata": {},
   "outputs": [
    {
     "data": {
      "text/plain": [
       "<matplotlib.axes._subplots.AxesSubplot at 0x7f9431706fd0>"
      ]
     },
     "execution_count": 16,
     "metadata": {},
     "output_type": "execute_result"
    },
    {
     "data": {
      "image/png": "[encoded data removed]",
      "text/plain": [
       "<Figure size 360x360 with 2 Axes>"
      ]
     },
     "metadata": {
      "needs_background": "light"
     },
     "output_type": "display_data"
    }
   ],
   "source": [
    "%matplotlib inline\n",
    "import matplotlib.pyplot as plt \n",
    "import seaborn as sns\n",
    "\n",
    "plt.figure(figsize=(5,5))\n",
    "sns.heatmap(data = doc.corr(), annot=True, fmt = '.2f', linewidths=0.5, cmap='Blues')"
   ]
  },
  {
   "cell_type": "code",
   "execution_count": null,
   "metadata": {},
   "outputs": [],
   "source": []
  },
  {
   "cell_type": "code",
   "execution_count": null,
   "metadata": {},
   "outputs": [],
   "source": []
  }
 ],
 "metadata": {
  "kernelspec": {
   "display_name": "Python 3",
   "language": "python",
   "name": "python3"
  },
  "language_info": {
   "codemirror_mode": {
    "name": "ipython",
    "version": 3
   },
   "file_extension": ".py",
   "mimetype": "text/x-python",
   "name": "python",
   "nbconvert_exporter": "python",
   "pygments_lexer": "ipython3",
   "version": "3.7.7"
  }
 },
 "nbformat": 4,
 "nbformat_minor": 4
}
